{
 "cells": [
  {
   "cell_type": "code",
   "execution_count": 1,
   "id": "fe3f2725",
   "metadata": {},
   "outputs": [],
   "source": [
    "s1 = 'Hello everybody'"
   ]
  },
  {
   "cell_type": "code",
   "execution_count": 2,
   "id": "6a042219",
   "metadata": {},
   "outputs": [
    {
     "data": {
      "text/plain": [
       "False"
      ]
     },
     "execution_count": 2,
     "metadata": {},
     "output_type": "execute_result"
    }
   ],
   "source": [
    "s1.startswith('A')"
   ]
  },
  {
   "cell_type": "code",
   "execution_count": 3,
   "id": "1faf7814",
   "metadata": {},
   "outputs": [
    {
     "name": "stdout",
     "output_type": "stream",
     "text": [
      "Hello everybody\n"
     ]
    }
   ],
   "source": [
    "print(s1)"
   ]
  },
  {
   "cell_type": "code",
   "execution_count": 4,
   "id": "3f62cdf3",
   "metadata": {},
   "outputs": [
    {
     "data": {
      "text/plain": [
       "True"
      ]
     },
     "execution_count": 4,
     "metadata": {},
     "output_type": "execute_result"
    }
   ],
   "source": [
    "s1.startswith('H')"
   ]
  },
  {
   "cell_type": "code",
   "execution_count": 5,
   "id": "dcb02598",
   "metadata": {},
   "outputs": [
    {
     "name": "stdout",
     "output_type": "stream",
     "text": [
      "[10, 20, 30, 40]\n",
      "(10, 20, 30, 40)\n"
     ]
    }
   ],
   "source": [
    "list1 = [10,20,30,40]\n",
    "tuple1 = (10,20,30,40)\n",
    "print(list1)\n",
    "print(tuple1)"
   ]
  },
  {
   "cell_type": "code",
   "execution_count": 6,
   "id": "4937657d",
   "metadata": {},
   "outputs": [
    {
     "data": {
      "text/plain": [
       "10"
      ]
     },
     "execution_count": 6,
     "metadata": {},
     "output_type": "execute_result"
    }
   ],
   "source": [
    "list1[0]"
   ]
  },
  {
   "cell_type": "code",
   "execution_count": 7,
   "id": "fd8e40aa",
   "metadata": {},
   "outputs": [
    {
     "data": {
      "text/plain": [
       "40"
      ]
     },
     "execution_count": 7,
     "metadata": {},
     "output_type": "execute_result"
    }
   ],
   "source": [
    "tuple1[3]"
   ]
  },
  {
   "cell_type": "code",
   "execution_count": 8,
   "id": "b2c2d9cf",
   "metadata": {},
   "outputs": [
    {
     "data": {
      "text/plain": [
       "' '"
      ]
     },
     "execution_count": 8,
     "metadata": {},
     "output_type": "execute_result"
    }
   ],
   "source": [
    "s1[5]"
   ]
  },
  {
   "cell_type": "code",
   "execution_count": 10,
   "id": "f05fcbad",
   "metadata": {},
   "outputs": [],
   "source": [
    "set1 = set()\n",
    "set1.add(10)\n",
    "set1.add(20)\n",
    "set1.add(30)\n",
    "set1.add(40)"
   ]
  },
  {
   "cell_type": "code",
   "execution_count": 11,
   "id": "ffd78c5f",
   "metadata": {},
   "outputs": [
    {
     "name": "stdout",
     "output_type": "stream",
     "text": [
      "{40, 10, 20, 30}\n"
     ]
    }
   ],
   "source": [
    "print(set1)"
   ]
  },
  {
   "cell_type": "code",
   "execution_count": 12,
   "id": "6a585d21",
   "metadata": {},
   "outputs": [
    {
     "name": "stdout",
     "output_type": "stream",
     "text": [
      "{40, 10, 20, 30}\n"
     ]
    }
   ],
   "source": [
    "set1.add(20)\n",
    "print(set1)"
   ]
  },
  {
   "cell_type": "code",
   "execution_count": 13,
   "id": "bc9ec0aa",
   "metadata": {},
   "outputs": [
    {
     "ename": "TypeError",
     "evalue": "'set' object is not subscriptable",
     "output_type": "error",
     "traceback": [
      "\u001b[1;31m---------------------------------------------------------------------------\u001b[0m",
      "\u001b[1;31mTypeError\u001b[0m                                 Traceback (most recent call last)",
      "Input \u001b[1;32mIn [13]\u001b[0m, in \u001b[0;36m<cell line: 1>\u001b[1;34m()\u001b[0m\n\u001b[1;32m----> 1\u001b[0m \u001b[38;5;28mprint\u001b[39m(\u001b[43mset1\u001b[49m\u001b[43m[\u001b[49m\u001b[38;5;241;43m0\u001b[39;49m\u001b[43m]\u001b[49m)\n",
      "\u001b[1;31mTypeError\u001b[0m: 'set' object is not subscriptable"
     ]
    }
   ],
   "source": [
    "print(set1[0])"
   ]
  },
  {
   "cell_type": "code",
   "execution_count": 14,
   "id": "f43579a7",
   "metadata": {},
   "outputs": [
    {
     "name": "stdout",
     "output_type": "stream",
     "text": [
      "40 140\n",
      "10 110\n",
      "20 120\n",
      "30 130\n"
     ]
    }
   ],
   "source": [
    "for element in set1:\n",
    "    print(element, element+100)"
   ]
  },
  {
   "cell_type": "code",
   "execution_count": 15,
   "id": "af49ad6b",
   "metadata": {},
   "outputs": [],
   "source": [
    "dict1 = {'Alice': '1234', 'Bob': '2345', 'Charles': '3456', 'Dean': '4567'}"
   ]
  },
  {
   "cell_type": "code",
   "execution_count": 16,
   "id": "6831f3cb",
   "metadata": {},
   "outputs": [
    {
     "data": {
      "text/plain": [
       "'1234'"
      ]
     },
     "execution_count": 16,
     "metadata": {},
     "output_type": "execute_result"
    }
   ],
   "source": [
    "dict1['Alice']"
   ]
  },
  {
   "cell_type": "code",
   "execution_count": 17,
   "id": "fdf79285",
   "metadata": {},
   "outputs": [
    {
     "data": {
      "text/plain": [
       "dict_keys(['Alice', 'Bob', 'Charles', 'Dean'])"
      ]
     },
     "execution_count": 17,
     "metadata": {},
     "output_type": "execute_result"
    }
   ],
   "source": [
    "dict1.keys()"
   ]
  },
  {
   "cell_type": "code",
   "execution_count": 18,
   "id": "20de3ced",
   "metadata": {},
   "outputs": [
    {
     "data": {
      "text/plain": [
       "dict_values(['1234', '2345', '3456', '4567'])"
      ]
     },
     "execution_count": 18,
     "metadata": {},
     "output_type": "execute_result"
    }
   ],
   "source": [
    "dict1.values()"
   ]
  },
  {
   "cell_type": "code",
   "execution_count": 26,
   "id": "e6f8483e",
   "metadata": {},
   "outputs": [
    {
     "name": "stdout",
     "output_type": "stream",
     "text": [
      "Alice 1234 <class 'str'> <class 'str'>\n",
      "Bob 2345 <class 'str'> <class 'str'>\n",
      "Charles 3456 <class 'str'> <class 'str'>\n",
      "Dean 4567 <class 'str'> <class 'str'>\n"
     ]
    }
   ],
   "source": [
    "for k,v in dict1.items():\n",
    "    print(k, v, type(k), type(v))"
   ]
  },
  {
   "cell_type": "code",
   "execution_count": 20,
   "id": "0a91903f",
   "metadata": {},
   "outputs": [
    {
     "name": "stdout",
     "output_type": "stream",
     "text": [
      "('Alice', '1234') <class 'tuple'>\n",
      "Alice 1234\n",
      "('Bob', '2345') <class 'tuple'>\n",
      "Bob 2345\n",
      "('Charles', '3456') <class 'tuple'>\n",
      "Charles 3456\n",
      "('Dean', '4567') <class 'tuple'>\n",
      "Dean 4567\n"
     ]
    }
   ],
   "source": [
    "for x in dict1.items():\n",
    "    print(x, type(x))\n",
    "    print(x[0], x[1])"
   ]
  },
  {
   "cell_type": "code",
   "execution_count": 21,
   "id": "84100b63",
   "metadata": {},
   "outputs": [],
   "source": [
    "def rectangle(b,h):\n",
    "    area = b*h\n",
    "    perimeter = (b+h)*2\n",
    "    return area, perimeter"
   ]
  },
  {
   "cell_type": "code",
   "execution_count": 22,
   "id": "161e2607",
   "metadata": {},
   "outputs": [
    {
     "name": "stdout",
     "output_type": "stream",
     "text": [
      "(40, 28)\n"
     ]
    }
   ],
   "source": [
    "print(rectangle(10,4))"
   ]
  },
  {
   "cell_type": "code",
   "execution_count": 23,
   "id": "0c8803a2",
   "metadata": {},
   "outputs": [],
   "source": [
    "x = rectangle(10,4)"
   ]
  },
  {
   "cell_type": "code",
   "execution_count": 24,
   "id": "5b268d7d",
   "metadata": {},
   "outputs": [
    {
     "name": "stdout",
     "output_type": "stream",
     "text": [
      "(40, 28) <class 'tuple'>\n"
     ]
    }
   ],
   "source": [
    "print(x, type(x))"
   ]
  },
  {
   "cell_type": "code",
   "execution_count": 25,
   "id": "26255a9a",
   "metadata": {},
   "outputs": [
    {
     "name": "stdout",
     "output_type": "stream",
     "text": [
      "{'Alice': '1234', 'Bob': '2345', 'Charles': '3456', 'Dean': '4567'} <class 'dict'>\n"
     ]
    }
   ],
   "source": [
    "print(dict1, type(dict1))"
   ]
  },
  {
   "cell_type": "code",
   "execution_count": 27,
   "id": "8631dd48",
   "metadata": {},
   "outputs": [],
   "source": [
    "dict2 = {'Alice': ['Flowers st', '101', 'Albany'], 'Bob': ['Daffodils st. ', '45', 'Boston']}"
   ]
  },
  {
   "cell_type": "code",
   "execution_count": 28,
   "id": "1799fd8f",
   "metadata": {},
   "outputs": [
    {
     "name": "stdout",
     "output_type": "stream",
     "text": [
      "{'Alice': ['Flowers st', '101', 'Albany'], 'Bob': ['Daffodils st. ', '45', 'Boston']} <class 'dict'>\n"
     ]
    }
   ],
   "source": [
    "print(dict2, type(dict2))"
   ]
  },
  {
   "cell_type": "code",
   "execution_count": 29,
   "id": "0ee3442e",
   "metadata": {},
   "outputs": [
    {
     "name": "stdout",
     "output_type": "stream",
     "text": [
      "Alice <class 'str'> ['Flowers st', '101', 'Albany'] <class 'list'>\n",
      "Bob <class 'str'> ['Daffodils st. ', '45', 'Boston'] <class 'list'>\n"
     ]
    }
   ],
   "source": [
    "for x,y in dict2.items():\n",
    "    print(x, type(x), y, type(y))"
   ]
  },
  {
   "cell_type": "code",
   "execution_count": 30,
   "id": "7b64bf20",
   "metadata": {},
   "outputs": [
    {
     "name": "stdout",
     "output_type": "stream",
     "text": [
      "False <class 'bool'>\n"
     ]
    }
   ],
   "source": [
    "b1 = bool()\n",
    "print(b1, type(b1))"
   ]
  },
  {
   "cell_type": "code",
   "execution_count": 31,
   "id": "450f21fa",
   "metadata": {},
   "outputs": [
    {
     "name": "stdout",
     "output_type": "stream",
     "text": [
      "140723527669896\n"
     ]
    }
   ],
   "source": [
    "print(id(b1))"
   ]
  },
  {
   "cell_type": "code",
   "execution_count": 32,
   "id": "44644982",
   "metadata": {},
   "outputs": [
    {
     "name": "stdout",
     "output_type": "stream",
     "text": [
      "True <class 'bool'> 140723527669864\n"
     ]
    }
   ],
   "source": [
    "b1 = True\n",
    "print(b1, type(b1), id(b1))"
   ]
  },
  {
   "cell_type": "code",
   "execution_count": 33,
   "id": "1f5f0730",
   "metadata": {},
   "outputs": [
    {
     "name": "stdout",
     "output_type": "stream",
     "text": [
      "True <class 'bool'>\n"
     ]
    }
   ],
   "source": [
    "x = s1.startswith('H')\n",
    "print(x, type(x))"
   ]
  },
  {
   "cell_type": "code",
   "execution_count": 35,
   "id": "c50d3809",
   "metadata": {},
   "outputs": [
    {
     "name": "stdout",
     "output_type": "stream",
     "text": [
      "1 True\n",
      "2 True\n",
      "3 True\n",
      "4 True\n",
      "5 True\n"
     ]
    }
   ],
   "source": [
    "s2 = '12345'\n",
    "for x in s2:\n",
    "    print(x, x.isnumeric())"
   ]
  },
  {
   "cell_type": "code",
   "execution_count": 36,
   "id": "489d4ac7",
   "metadata": {},
   "outputs": [],
   "source": [
    "lx = [4,34,76,101,5,12]"
   ]
  },
  {
   "cell_type": "code",
   "execution_count": 37,
   "id": "3884986d",
   "metadata": {},
   "outputs": [
    {
     "name": "stdout",
     "output_type": "stream",
     "text": [
      "101\n"
     ]
    }
   ],
   "source": [
    "maxx = lx[0]\n",
    "for x in lx:\n",
    "    if x > maxx:\n",
    "        maxx = x\n",
    "print(maxx)"
   ]
  },
  {
   "cell_type": "code",
   "execution_count": 38,
   "id": "a37745ae",
   "metadata": {},
   "outputs": [
    {
     "name": "stdout",
     "output_type": "stream",
     "text": [
      "3 101\n"
     ]
    }
   ],
   "source": [
    "imax = 0\n",
    "maxx = lx[imax]\n",
    "for i in range(len(lx)):\n",
    "    if lx[i] > maxx:\n",
    "        maxx = lx[i]\n",
    "        imax = i\n",
    "print(imax, maxx)"
   ]
  },
  {
   "cell_type": "code",
   "execution_count": 39,
   "id": "525f8330",
   "metadata": {},
   "outputs": [
    {
     "name": "stdout",
     "output_type": "stream",
     "text": [
      "6\n"
     ]
    }
   ],
   "source": [
    "print(len(lx))"
   ]
  },
  {
   "cell_type": "code",
   "execution_count": 40,
   "id": "a6749b11",
   "metadata": {},
   "outputs": [
    {
     "name": "stdout",
     "output_type": "stream",
     "text": [
      "15 4 4 4\n"
     ]
    }
   ],
   "source": [
    "print(len(s1), len(tuple1), len(set1), len(dict1))"
   ]
  },
  {
   "cell_type": "code",
   "execution_count": 42,
   "id": "06b2e33e",
   "metadata": {},
   "outputs": [],
   "source": [
    "x = 1\n",
    "if x > 3:\n",
    "    print(x, 'greater than 3')"
   ]
  },
  {
   "cell_type": "code",
   "execution_count": 43,
   "id": "59be005d",
   "metadata": {},
   "outputs": [
    {
     "data": {
      "text/plain": [
       "True"
      ]
     },
     "execution_count": 43,
     "metadata": {},
     "output_type": "execute_result"
    }
   ],
   "source": [
    "x > 0"
   ]
  },
  {
   "cell_type": "code",
   "execution_count": 44,
   "id": "4e6fe9cb",
   "metadata": {},
   "outputs": [
    {
     "data": {
      "text/plain": [
       "False"
      ]
     },
     "execution_count": 44,
     "metadata": {},
     "output_type": "execute_result"
    }
   ],
   "source": [
    "x > 10"
   ]
  },
  {
   "cell_type": "code",
   "execution_count": 45,
   "id": "a72e32b8",
   "metadata": {},
   "outputs": [
    {
     "ename": "TypeError",
     "evalue": "'>' not supported between instances of 'int' and 'str'",
     "output_type": "error",
     "traceback": [
      "\u001b[1;31m---------------------------------------------------------------------------\u001b[0m",
      "\u001b[1;31mTypeError\u001b[0m                                 Traceback (most recent call last)",
      "Input \u001b[1;32mIn [45]\u001b[0m, in \u001b[0;36m<cell line: 2>\u001b[1;34m()\u001b[0m\n\u001b[0;32m      1\u001b[0m y \u001b[38;5;241m=\u001b[39m \u001b[38;5;124m'\u001b[39m\u001b[38;5;124mA\u001b[39m\u001b[38;5;124m'\u001b[39m\n\u001b[1;32m----> 2\u001b[0m \u001b[43mx\u001b[49m\u001b[43m \u001b[49m\u001b[38;5;241;43m>\u001b[39;49m\u001b[43m \u001b[49m\u001b[43my\u001b[49m\n",
      "\u001b[1;31mTypeError\u001b[0m: '>' not supported between instances of 'int' and 'str'"
     ]
    }
   ],
   "source": [
    "y = 'A'\n",
    "x > y"
   ]
  },
  {
   "cell_type": "code",
   "execution_count": 46,
   "id": "59bb7247",
   "metadata": {},
   "outputs": [
    {
     "data": {
      "text/plain": [
       "False"
      ]
     },
     "execution_count": 46,
     "metadata": {},
     "output_type": "execute_result"
    }
   ],
   "source": [
    "x > ord('A')"
   ]
  },
  {
   "cell_type": "code",
   "execution_count": 47,
   "id": "4b16069f",
   "metadata": {},
   "outputs": [
    {
     "name": "stdout",
     "output_type": "stream",
     "text": [
      "65\n"
     ]
    }
   ],
   "source": [
    "print(ord('A')) #ASCII table"
   ]
  },
  {
   "cell_type": "code",
   "execution_count": 50,
   "id": "728a6890",
   "metadata": {},
   "outputs": [
    {
     "data": {
      "text/plain": [
       "91"
      ]
     },
     "execution_count": 50,
     "metadata": {},
     "output_type": "execute_result"
    }
   ],
   "source": [
    "ord('[')"
   ]
  },
  {
   "cell_type": "code",
   "execution_count": 51,
   "id": "af69c200",
   "metadata": {},
   "outputs": [
    {
     "data": {
      "text/plain": [
       "'e'"
      ]
     },
     "execution_count": 51,
     "metadata": {},
     "output_type": "execute_result"
    }
   ],
   "source": [
    "chr(101)"
   ]
  },
  {
   "cell_type": "code",
   "execution_count": 52,
   "id": "68720f21",
   "metadata": {},
   "outputs": [],
   "source": [
    "xx = int()"
   ]
  },
  {
   "cell_type": "code",
   "execution_count": 53,
   "id": "3cbbe1af",
   "metadata": {},
   "outputs": [],
   "source": [
    "import random"
   ]
  },
  {
   "cell_type": "code",
   "execution_count": 58,
   "id": "c8f63f73",
   "metadata": {},
   "outputs": [
    {
     "name": "stdout",
     "output_type": "stream",
     "text": [
      "[] <class 'list'> 1874874602368\n",
      "[53, 18, 8, 73, 6, 75, 75, 14, 8, 62] 1874874602368\n"
     ]
    }
   ],
   "source": [
    "rn = list()\n",
    "print(rn, type(rn), id(rn))\n",
    "for i in range(10):\n",
    "    x = random.randint(0,99)\n",
    "    rn.append(x)\n",
    "print(rn, id(rn))"
   ]
  },
  {
   "cell_type": "code",
   "execution_count": 56,
   "id": "55ce331f",
   "metadata": {},
   "outputs": [
    {
     "name": "stdout",
     "output_type": "stream",
     "text": [
      "0 <class 'int'> 1876897458448\n"
     ]
    }
   ],
   "source": [
    "int1 = int()\n",
    "print(int1, type(int1), id(int1))"
   ]
  },
  {
   "cell_type": "code",
   "execution_count": 57,
   "id": "d871f786",
   "metadata": {},
   "outputs": [
    {
     "name": "stdout",
     "output_type": "stream",
     "text": [
      "11 <class 'int'> 1876897458800\n"
     ]
    }
   ],
   "source": [
    "int1 = 11\n",
    "print(int1, type(int1), id(int1))"
   ]
  },
  {
   "cell_type": "code",
   "execution_count": 59,
   "id": "0a735527",
   "metadata": {},
   "outputs": [
    {
     "name": "stdout",
     "output_type": "stream",
     "text": [
      "44.35 <class 'float'>\n"
     ]
    }
   ],
   "source": [
    "f1 = 44.35\n",
    "print(f1, type(f1))"
   ]
  },
  {
   "cell_type": "code",
   "execution_count": 60,
   "id": "e666af91",
   "metadata": {},
   "outputs": [
    {
     "name": "stdout",
     "output_type": "stream",
     "text": [
      "44\n"
     ]
    }
   ],
   "source": [
    "print(int(f1))"
   ]
  },
  {
   "cell_type": "code",
   "execution_count": 61,
   "id": "0e8c2e4d",
   "metadata": {},
   "outputs": [
    {
     "data": {
      "text/plain": [
       "44"
      ]
     },
     "execution_count": 61,
     "metadata": {},
     "output_type": "execute_result"
    }
   ],
   "source": [
    "f2 = 44.87\n",
    "int(f2)"
   ]
  },
  {
   "cell_type": "code",
   "execution_count": 62,
   "id": "b4c59975",
   "metadata": {},
   "outputs": [
    {
     "data": {
      "text/plain": [
       "23.0"
      ]
     },
     "execution_count": 62,
     "metadata": {},
     "output_type": "execute_result"
    }
   ],
   "source": [
    "float(23)"
   ]
  },
  {
   "cell_type": "code",
   "execution_count": 63,
   "id": "85f4e06e",
   "metadata": {},
   "outputs": [
    {
     "data": {
      "text/plain": [
       "123"
      ]
     },
     "execution_count": 63,
     "metadata": {},
     "output_type": "execute_result"
    }
   ],
   "source": [
    "int('123')"
   ]
  },
  {
   "cell_type": "code",
   "execution_count": 64,
   "id": "b18eea80",
   "metadata": {},
   "outputs": [
    {
     "ename": "ValueError",
     "evalue": "invalid literal for int() with base 10: '123.0'",
     "output_type": "error",
     "traceback": [
      "\u001b[1;31m---------------------------------------------------------------------------\u001b[0m",
      "\u001b[1;31mValueError\u001b[0m                                Traceback (most recent call last)",
      "Input \u001b[1;32mIn [64]\u001b[0m, in \u001b[0;36m<cell line: 1>\u001b[1;34m()\u001b[0m\n\u001b[1;32m----> 1\u001b[0m \u001b[38;5;28;43mint\u001b[39;49m\u001b[43m(\u001b[49m\u001b[38;5;124;43m'\u001b[39;49m\u001b[38;5;124;43m123.0\u001b[39;49m\u001b[38;5;124;43m'\u001b[39;49m\u001b[43m)\u001b[49m\n",
      "\u001b[1;31mValueError\u001b[0m: invalid literal for int() with base 10: '123.0'"
     ]
    }
   ],
   "source": [
    "int('123.0')"
   ]
  },
  {
   "cell_type": "code",
   "execution_count": 65,
   "id": "2bc3dd46",
   "metadata": {},
   "outputs": [
    {
     "ename": "ValueError",
     "evalue": "invalid literal for int() with base 10: 'ab'",
     "output_type": "error",
     "traceback": [
      "\u001b[1;31m---------------------------------------------------------------------------\u001b[0m",
      "\u001b[1;31mValueError\u001b[0m                                Traceback (most recent call last)",
      "Input \u001b[1;32mIn [65]\u001b[0m, in \u001b[0;36m<cell line: 1>\u001b[1;34m()\u001b[0m\n\u001b[1;32m----> 1\u001b[0m \u001b[38;5;28;43mint\u001b[39;49m\u001b[43m(\u001b[49m\u001b[38;5;124;43m'\u001b[39;49m\u001b[38;5;124;43mab\u001b[39;49m\u001b[38;5;124;43m'\u001b[39;49m\u001b[43m)\u001b[49m\n",
      "\u001b[1;31mValueError\u001b[0m: invalid literal for int() with base 10: 'ab'"
     ]
    }
   ],
   "source": [
    "int('ab')"
   ]
  },
  {
   "cell_type": "code",
   "execution_count": 66,
   "id": "cd8d7029",
   "metadata": {},
   "outputs": [
    {
     "data": {
      "text/plain": [
       "171"
      ]
     },
     "execution_count": 66,
     "metadata": {},
     "output_type": "execute_result"
    }
   ],
   "source": [
    "int('ab', 16) # a = 10, b = 11 in hexadecimal"
   ]
  },
  {
   "cell_type": "markdown",
   "id": "ffdc6393",
   "metadata": {},
   "source": [
    "$ab = a*16^1 + b*16^0 = 10*16^1 + 11*16^0$"
   ]
  },
  {
   "cell_type": "markdown",
   "id": "bd308188",
   "metadata": {},
   "source": [
    "$345 = 3*10^2 + 4*10^1 + 5*10^0$"
   ]
  },
  {
   "cell_type": "code",
   "execution_count": null,
   "id": "708b4eb5",
   "metadata": {},
   "outputs": [],
   "source": []
  }
 ],
 "metadata": {
  "kernelspec": {
   "display_name": "Python 3 (ipykernel)",
   "language": "python",
   "name": "python3"
  },
  "language_info": {
   "codemirror_mode": {
    "name": "ipython",
    "version": 3
   },
   "file_extension": ".py",
   "mimetype": "text/x-python",
   "name": "python",
   "nbconvert_exporter": "python",
   "pygments_lexer": "ipython3",
   "version": "3.9.12"
  }
 },
 "nbformat": 4,
 "nbformat_minor": 5
}
yangilandi
